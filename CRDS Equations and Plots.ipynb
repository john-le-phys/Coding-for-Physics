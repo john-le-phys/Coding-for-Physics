{
 "cells": [
  {
   "cell_type": "code",
   "execution_count": 4,
   "id": "82e50ae2",
   "metadata": {},
   "outputs": [],
   "source": [
    "import numpy as np\n",
    "import matplotlib.pyplot as plt  \n",
    "import scipy.constants as constants"
   ]
  },
  {
   "cell_type": "code",
   "execution_count": 5,
   "id": "c79f8ff7",
   "metadata": {},
   "outputs": [
    {
     "data": {
      "text/plain": [
       "Text(0, 0.5, 'intensity')"
      ]
     },
     "execution_count": 5,
     "metadata": {},
     "output_type": "execute_result"
    },
    {
     "data": {
      "image/png": "[encoded data removed]",
      "text/plain": [
       "<Figure size 432x288 with 1 Axes>"
      ]
     },
     "metadata": {
      "needs_background": "light"
     },
     "output_type": "display_data"
    }
   ],
   "source": [
    "def intensity_time(I0, t, tlambda):\n",
    "    I= I0*(np.exp(-t/tlambda))\n",
    "    return I\n",
    "\n",
    "t=np.linspace(0,12,50)\n",
    "\n",
    "#pick some random initial values\n",
    "I0= 10\n",
    "tlambda = 0.4\n",
    "\n",
    "#try plotting the graph\n",
    "y = intensity_time(I0,t,tlambda)\n",
    "plt.plot(t,y)\n",
    "plt.xlabel(\"time\")\n",
    "plt.ylabel(\"intensity\")\n"
   ]
  },
  {
   "cell_type": "code",
   "execution_count": 6,
   "id": "55d1766e",
   "metadata": {},
   "outputs": [
    {
     "name": "stdout",
     "output_type": "stream",
     "text": [
      "299792458.0\n",
      "6.353601813298134e-09\n"
     ]
    }
   ],
   "source": [
    "c = constants.c\n",
    "print(c)\n",
    "def absorption_coefficient(c,L,l_abs,tlambda,t_0):\n",
    "    k_lambda = ((L/(c*l_abs))*((1/t_lambda)-(1/t_0)))\n",
    "    return k_lambda\n",
    "\n",
    "#test if this calculation works\n",
    "#recall L is the cavity lenght, c is sped of light, l_abs is absorption lenght, t_lambda is total wavelength \n",
    "#dependent lifetime, and t_0 is empty cavity \n",
    "\n",
    "#define some values such that\n",
    "L=0.1 #meters\n",
    "l_abs= 0.07 #meters\n",
    "t_lambda = 0.3 #notsure of lifetie values\n",
    "t_0=0.5\n",
    "np\n",
    "y = absorption_coefficient(c,L,l_abs,tlambda,t_0)\n",
    "print(y)"
   ]
  },
  {
   "cell_type": "code",
   "execution_count": null,
   "id": "eab86f25",
   "metadata": {},
   "outputs": [],
   "source": []
  },
  {
   "cell_type": "code",
   "execution_count": null,
   "id": "1d8cca21",
   "metadata": {},
   "outputs": [],
   "source": []
  }
 ],
 "metadata": {
  "kernelspec": {
   "display_name": "Python 3",
   "language": "python",
   "name": "python3"
  },
  "language_info": {
   "codemirror_mode": {
    "name": "ipython",
    "version": 3
   },
   "file_extension": ".py",
   "mimetype": "text/x-python",
   "name": "python",
   "nbconvert_exporter": "python",
   "pygments_lexer": "ipython3",
   "version": "3.8.8"
  }
 },
 "nbformat": 4,
 "nbformat_minor": 5
}
