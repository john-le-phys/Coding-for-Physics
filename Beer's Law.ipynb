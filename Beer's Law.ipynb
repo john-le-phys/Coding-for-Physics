{
 "cells": [
  {
   "cell_type": "code",
   "execution_count": 7,
   "id": "1f48dbe2",
   "metadata": {},
   "outputs": [],
   "source": [
    "import numpy as np\n",
    "import matplotlib.pyplot as plt  \n",
    "import scipy.constants as constants"
   ]
  },
  {
   "cell_type": "code",
   "execution_count": 24,
   "id": "cfe5e823",
   "metadata": {},
   "outputs": [
    {
     "data": {
      "text/plain": [
       "[<matplotlib.lines.Line2D at 0x7f96301e1a60>]"
      ]
     },
     "execution_count": 24,
     "metadata": {},
     "output_type": "execute_result"
    },
    {
     "data": {
      "image/png": "[encoded data removed]",
      "text/plain": [
       "<Figure size 432x288 with 1 Axes>"
      ]
     },
     "metadata": {
      "needs_background": "light"
     },
     "output_type": "display_data"
    }
   ],
   "source": [
    "#consider beer's law where A=ecl\n",
    "#A=absorption, e=extinction coefficient, c=molarity, l=pathlenght\n",
    "#we want to focus on the extinction coefficient where the intensity of the laser can be changed\n",
    "\n",
    "def extinction_coefficient(c,l,I0,I):\n",
    "    e = ((c*l)/(np.log10(I0/I)))\n",
    "    return e\n",
    "\n",
    "#define some variables\n",
    "l = 0.01 #meters\n",
    "c= 55.5 #molarity of water\n",
    "I= 25.465 #intensity in difference of powers\n",
    "\n",
    "y = extinction_coefficient(c,l,I0,I)\n",
    "plt.plot(I0,y)\n"
   ]
  },
  {
   "cell_type": "code",
   "execution_count": 22,
   "id": "95e96249",
   "metadata": {},
   "outputs": [
    {
     "name": "stdout",
     "output_type": "stream",
     "text": [
      "2.344470871908455\n"
     ]
    }
   ],
   "source": [
    "a = np.log10(5526/25)\n",
    "print(a)"
   ]
  },
  {
   "cell_type": "code",
   "execution_count": null,
   "id": "8d7a8354",
   "metadata": {},
   "outputs": [],
   "source": []
  }
 ],
 "metadata": {
  "kernelspec": {
   "display_name": "Python 3",
   "language": "python",
   "name": "python3"
  },
  "language_info": {
   "codemirror_mode": {
    "name": "ipython",
    "version": 3
   },
   "file_extension": ".py",
   "mimetype": "text/x-python",
   "name": "python",
   "nbconvert_exporter": "python",
   "pygments_lexer": "ipython3",
   "version": "3.8.8"
  }
 },
 "nbformat": 4,
 "nbformat_minor": 5
}
